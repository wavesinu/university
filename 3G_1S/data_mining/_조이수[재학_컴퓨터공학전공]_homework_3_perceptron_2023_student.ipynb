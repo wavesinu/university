{
 "cells": [
  {
   "cell_type": "markdown",
   "metadata": {
    "id": "SLiVeqZ7fue7"
   },
   "source": [
    "# Homework 3-P. Perceptron"
   ]
  },
  {
   "cell_type": "markdown",
   "metadata": {
    "id": "urSUlqyPfue8"
   },
   "source": [
    "***Double Click here to edit this cell***\n",
    "\n",
    "- Name: \n",
    "- Student ID: \n",
    "- Submission date: "
   ]
  },
  {
   "cell_type": "markdown",
   "metadata": {
    "id": "10Voukedfue9"
   },
   "source": [
    "## Do this homework on anaconda\n",
    "## Homework Purpose: Learn SGD and Perceptron"
   ]
  },
  {
   "cell_type": "markdown",
   "metadata": {
    "id": "2mCH95Kufue9"
   },
   "source": [
    "## Perceptron model"
   ]
  },
  {
   "cell_type": "markdown",
   "metadata": {
    "id": "gsvEyt6sfue-"
   },
   "source": [
    "![image-3.png](attachment:image-3.png)"
   ]
  },
  {
   "cell_type": "markdown",
   "metadata": {
    "id": "fabKfObBfue-"
   },
   "source": [
    "### The net input of the perceptron including the bias"
   ]
  },
  {
   "cell_type": "markdown",
   "metadata": {
    "id": "1Vokm1DFfue-"
   },
   "source": [
    "![image-2.png](attachment:image-2.png)"
   ]
  },
  {
   "cell_type": "markdown",
   "metadata": {
    "id": "LPNnzNnHfue_"
   },
   "source": [
    "#### Remark:\n",
    "\n",
    "$$\\sum_{i=1}^{m} w_i x_i + b = b + w_1 x_1 + \\cdots + w_m x_m = (w_0, w_1, \\cdots, w_m) \\cdot (1, x_1, \\cdots, x_m)$$\n",
    "where $w_0 = b$"
   ]
  },
  {
   "cell_type": "markdown",
   "metadata": {
    "id": "qMT4erfgfue_"
   },
   "source": [
    "### Vector form of the net input"
   ]
  },
  {
   "cell_type": "markdown",
   "metadata": {
    "id": "b3VT6yOsfue_"
   },
   "source": [
    "![image.png](attachment:image.png)"
   ]
  },
  {
   "cell_type": "markdown",
   "metadata": {
    "id": "1KQEhGS_fufA"
   },
   "source": [
    "|### The perceptron fires if and only if the net input is non-negative"
   ]
  },
  {
   "cell_type": "markdown",
   "metadata": {
    "id": "ywsIrtZ4fufA"
   },
   "source": [
    "![image.png](attachment:image.png)"
   ]
  },
  {
   "cell_type": "markdown",
   "metadata": {
    "id": "9lszgI07fufA"
   },
   "source": [
    "### Perceptron as a Binary Classifier\n",
    "\n",
    "- A linear classifier uses lines to classify data points—any object on one side of the line is part of one class and any object on the other side is part of the other class. \n",
    "- A successful linear classifier could use $H_1$ or $H_2$ to discriminate between the two classes, whereas $H_3$ would be a poor decision boundary.\n",
    "- $H_1$ or $H_2$ are called a separating hyperplane"
   ]
  },
  {
   "cell_type": "markdown",
   "metadata": {
    "id": "QoSHfHLQfufB"
   },
   "source": [
    "![image-2.png](attachment:image-2.png)"
   ]
  },
  {
   "cell_type": "markdown",
   "metadata": {
    "id": "qnlnSwwffufC"
   },
   "source": [
    "### Geometric Interpretation of a separating hyperplane"
   ]
  },
  {
   "cell_type": "markdown",
   "metadata": {
    "id": "1ZI9WWu0fufC"
   },
   "source": [
    "![image-3.png](attachment:image-3.png)"
   ]
  },
  {
   "cell_type": "markdown",
   "metadata": {
    "id": "5hqURB-cfufC"
   },
   "source": [
    "### When a data is miclassified, we move w to a certain direction\n",
    "\n",
    "- Which direction? How much should we move? Figure it out"
   ]
  },
  {
   "cell_type": "markdown",
   "metadata": {
    "id": "nKibOzFBfufD"
   },
   "source": [
    "![image-2.png](attachment:image-2.png)"
   ]
  },
  {
   "cell_type": "markdown",
   "metadata": {
    "id": "sEfsU1NQfufD"
   },
   "source": [
    "## Remark: gradient_descent.py, linear_algebra.py must be in the folder having this notebook file"
   ]
  },
  {
   "cell_type": "code",
   "execution_count": 1,
   "metadata": {
    "id": "oYj8Ph1gfufD"
   },
   "outputs": [
    {
     "ename": "ModuleNotFoundError",
     "evalue": "No module named 'gradient_descent'",
     "output_type": "error",
     "traceback": [
      "\u001B[0;31m---------------------------------------------------------------------------\u001B[0m",
      "\u001B[0;31mModuleNotFoundError\u001B[0m                       Traceback (most recent call last)",
      "Cell \u001B[0;32mIn[1], line 2\u001B[0m\n\u001B[1;32m      1\u001B[0m \u001B[38;5;66;03m# run this cell\u001B[39;00m\n\u001B[0;32m----> 2\u001B[0m \u001B[38;5;28;01mfrom\u001B[39;00m \u001B[38;5;21;01mgradient_descent\u001B[39;00m \u001B[38;5;28;01mimport\u001B[39;00m \u001B[38;5;241m*\u001B[39m\n\u001B[1;32m      3\u001B[0m \u001B[38;5;28;01mfrom\u001B[39;00m \u001B[38;5;21;01mlinear_algebra\u001B[39;00m \u001B[38;5;28;01mimport\u001B[39;00m \u001B[38;5;241m*\u001B[39m\n",
      "\u001B[0;31mModuleNotFoundError\u001B[0m: No module named 'gradient_descent'"
     ]
    }
   ],
   "source": [
    "# run this cell\n",
    "from gradient_descent import *\n",
    "from linear_algebra import *"
   ]
  },
  {
   "cell_type": "markdown",
   "metadata": {
    "id": "qa8153usfufD"
   },
   "source": [
    "## Problem 1 (30 pts)\n",
    "\n",
    "- We want to implement a simple neural network called ```Perceptron```.\n",
    "- We will use ```minimize_stochastic``` to optimize the network"
   ]
  },
  {
   "cell_type": "markdown",
   "metadata": {
    "id": "NH8TbDrEfufD"
   },
   "source": [
    "### The code of SGD\n",
    "```python\n",
    "def in_random_order(data):\n",
    "    \"\"\"generator that returns the elements of data in random order\"\"\"\n",
    "    indexes = [i for i, _ in enumerate(data)]  # create a list of indexes\n",
    "    random.shuffle(indexes)                    # shuffle them\n",
    "    for i in indexes:                          # return the data in that order\n",
    "        yield data[i]\n",
    "        \n",
    "def minimize_stochastic(target_fn, gradient_fn, x, y, theta_0, alpha_0=0.01):\n",
    "\n",
    "    data = list(zip(x, y))\n",
    "    theta = theta_0\n",
    "    data = list(zip(x, y))\n",
    "    theta = theta_0                             # initial guess\n",
    "    alpha = alpha_0                             # initial step size\n",
    "    min_theta, min_value = None, float(\"inf\")   # the minimum so far\n",
    "    iterations_with_no_improvement = 0  \n",
    "\n",
    "    # if we ever go 100 iterations with no improvement, stop\n",
    "    while iterations_with_no_improvement < 100:\n",
    "        count += 1\n",
    "        value = sum( target_fn(x_i, y_i, theta) for x_i, y_i in data )\n",
    "\n",
    "        if value < min_value:\n",
    "            # if we've found a new minimum, remember it\n",
    "            # and go back to the original step size\n",
    "            min_theta, min_value = theta, value\n",
    "            iterations_with_no_improvement = 0\n",
    "            alpha = alpha_0\n",
    "        else:\n",
    "            # otherwise we're not improving, so try shrinking the step size\n",
    "            iterations_with_no_improvement += 1\n",
    "            alpha *= 0.9\n",
    "\n",
    "        # and take a gradient step for each of the data points\n",
    "        for x_i, y_i in in_random_order(data):\n",
    "            gradient_i = gradient_fn(x_i, y_i, theta)\n",
    "            theta = vector_subtract(theta, scalar_multiply(alpha, gradient_i))\n",
    "            \n",
    "    min_theta = theta\n",
    "    \n",
    "    return min_theta\n",
    "```"
   ]
  },
  {
   "cell_type": "markdown",
   "metadata": {
    "id": "Itcno_91fufE"
   },
   "source": [
    "### You should define an error function and a gradient function for perceptron:\n",
    "### Remark: ONE or TWO lines for an error function and a gradient function are enough. If the number of lines > 2, you get a penalty"
   ]
  },
  {
   "cell_type": "markdown",
   "metadata": {
    "id": "9wvLtYtVfufE"
   },
   "source": [
    "### Define your error function here:"
   ]
  },
  {
   "cell_type": "code",
   "execution_count": null,
   "metadata": {
    "id": "z9QW0LkIfufE"
   },
   "outputs": [],
   "source": [
    "# YOUR CODE MUST BE HERE\n",
    "\n",
    "def perceptron_error(x_i, y_i, w):\n",
    "\n",
    "    \n",
    "    "
   ]
  },
  {
   "cell_type": "markdown",
   "metadata": {
    "id": "5QKaimbtfufE"
   },
   "source": [
    "### Define your gradient function here:"
   ]
  },
  {
   "cell_type": "code",
   "execution_count": null,
   "metadata": {
    "id": "RRhkkkidfufF"
   },
   "outputs": [],
   "source": [
    "# YOUR CODE MUST BE HERE\n",
    "\n",
    "def perceptron_error_gradient(x_i, y_i, w):\n",
    "\n",
    "    \n",
    "    "
   ]
  },
  {
   "cell_type": "markdown",
   "metadata": {
    "id": "Zoy6o1crfufF"
   },
   "source": [
    "### Define a function to shade a decision boundary\n",
    "\n",
    "- The region of $w_1 \\cdot x_1 + w_2 \\cdot x_2 + w_0 \\ge 0$  are shaded as red; otherwise shaded as blue\n",
    "- ```x_min, x_max, y_min, y_max``` defines a shading area\n",
    "- The resulting shading and plotting must be very similar as shown in the given answer images"
   ]
  },
  {
   "cell_type": "code",
   "execution_count": null,
   "metadata": {
    "id": "nUwUr4lufufF"
   },
   "outputs": [],
   "source": [
    "# YOUR CODE MUST BE HERE\n",
    "\n",
    "def shade_decision_region(X, y, w, x_min, x_max, y_min, y_max):\n",
    "\n",
    "    \n",
    "    \n",
    "    \n",
    "    "
   ]
  },
  {
   "cell_type": "markdown",
   "metadata": {
    "id": "-MJQVBdzfufF"
   },
   "source": [
    "### Test Case 1: OR"
   ]
  },
  {
   "cell_type": "code",
   "execution_count": null,
   "metadata": {
    "scrolled": true,
    "id": "fziWaSg_fufF"
   },
   "outputs": [],
   "source": [
    "# DO NOT EDIT THIS CELL\n",
    "# RUN THIS CELL\n",
    "\n",
    "import matplotlib.pyplot as plt\n",
    "import numpy as np \n",
    "\n",
    "X = [[1,0,0], [1,0,1], [1,1,0], [1,1,1]]\n",
    "y = [-1, 1, 1, 1]\n",
    "\n",
    "random.seed(2)\n",
    "theta = [1, random.random(),random.random()]\n",
    "\n",
    "w = minimize_stochastic(perceptron_error,\n",
    "                        perceptron_error_gradient,\n",
    "                        X,\n",
    "                        y,\n",
    "                        theta,\n",
    "                        0.1)\n",
    "\n",
    "shade_decision_region(X, y, w, x_min=-1, x_max=2, y_min=-1, y_max=2)"
   ]
  },
  {
   "cell_type": "markdown",
   "metadata": {
    "id": "Dy6vXiENfufF"
   },
   "source": [
    "#### Your output must be similar to the following:\n",
    "\n",
    "![image.png](attachment:image.png)"
   ]
  },
  {
   "cell_type": "markdown",
   "metadata": {
    "id": "1Z3s1EtKfufG"
   },
   "source": [
    "### Test Case 2: AND"
   ]
  },
  {
   "cell_type": "code",
   "execution_count": null,
   "metadata": {
    "scrolled": false,
    "id": "DQf1lVr5fufG"
   },
   "outputs": [],
   "source": [
    "# DO NOT EDIT THIS CELL\n",
    "# RUN THIS CELL\n",
    "\n",
    "import matplotlib.pyplot as plt\n",
    "import numpy as np \n",
    "\n",
    "X = [[1,0,0], [1,0,1], [1,1,0], [1,1,1]]\n",
    "y = [-1, -1, -1, 1]\n",
    "\n",
    "# choose random value to start\n",
    "random.seed(2)\n",
    "theta = [1, random.random(),random.random()]\n",
    "\n",
    "w = minimize_stochastic(perceptron_error,\n",
    "                        perceptron_error_gradient,\n",
    "                        X,\n",
    "                        y,\n",
    "                        theta,\n",
    "                        0.1)\n",
    "\n",
    "shade_decision_region(X, y, w, x_min=-1, x_max=2, y_min=-1, y_max=2)"
   ]
  },
  {
   "cell_type": "markdown",
   "metadata": {
    "id": "HqawrFAwfufG"
   },
   "source": [
    "#### Your output must be similar to the following:\n",
    "\n",
    "![image.png](attachment:image.png)"
   ]
  },
  {
   "cell_type": "markdown",
   "metadata": {
    "id": "pomd4NC1fufG"
   },
   "source": [
    "### Test Case 3: XOR"
   ]
  },
  {
   "cell_type": "code",
   "execution_count": null,
   "metadata": {
    "scrolled": false,
    "id": "soJ97TzHfufG"
   },
   "outputs": [],
   "source": [
    "# DO NOT EDIT THIS CELL\n",
    "# RUN THIS CELL\n",
    "\n",
    "import matplotlib.pyplot as plt\n",
    "import numpy as np \n",
    "\n",
    "X = [[1,0,0], [1,0,1], [1,1,0], [1,1,1]]\n",
    "y = [-1, 1, 1, -1]\n",
    "\n",
    "# choose random value to start\n",
    "random.seed(2)\n",
    "theta = [1, random.random(),random.random()]\n",
    "\n",
    "w = minimize_stochastic(perceptron_error,\n",
    "                        perceptron_error_gradient,\n",
    "                        X,\n",
    "                        y,\n",
    "                        theta,\n",
    "                        0.1)\n",
    "\n",
    "shade_decision_region(X, y, w, x_min=-1, x_max=2, y_min=-1, y_max=2)"
   ]
  },
  {
   "cell_type": "markdown",
   "metadata": {
    "id": "JczzTywAfufH"
   },
   "source": [
    "#### Your output must be similar to the following:\n",
    "\n",
    "![image.png](attachment:image.png)"
   ]
  },
  {
   "cell_type": "markdown",
   "metadata": {
    "id": "0f3dM9RYfufH"
   },
   "source": [
    "### Test Case 4: Right"
   ]
  },
  {
   "cell_type": "code",
   "execution_count": null,
   "metadata": {
    "scrolled": true,
    "id": "JGN1KK1bfufH"
   },
   "outputs": [],
   "source": [
    "# DO NOT EDIT THIS CELL\n",
    "# RUN THIS CELL\n",
    "\n",
    "import matplotlib.pyplot as plt\n",
    "import numpy as np \n",
    "\n",
    "X = [[1,0,0], [1,0,1], [1,1,0], [1,1,1]]\n",
    "y = [-1, -1, 1, 1]\n",
    "\n",
    "# choose random value to start\n",
    "random.seed(2)\n",
    "theta = [1, random.random(),random.random()]\n",
    "\n",
    "w = minimize_stochastic(perceptron_error,\n",
    "                        perceptron_error_gradient,\n",
    "                        X,\n",
    "                        y,\n",
    "                        theta,\n",
    "                        0.1)\n",
    "\n",
    "shade_decision_region(X, y, w, x_min=-1, x_max=2, y_min=-1, y_max=2)"
   ]
  },
  {
   "cell_type": "markdown",
   "metadata": {
    "id": "dg2zzb3UfufH"
   },
   "source": [
    "#### Your output must be similar to the following:\n",
    "\n",
    "![image.png](attachment:image.png)"
   ]
  },
  {
   "cell_type": "markdown",
   "metadata": {
    "id": "fCYZeyATfufH"
   },
   "source": [
    "### Test Case 5: Upper"
   ]
  },
  {
   "cell_type": "code",
   "execution_count": null,
   "metadata": {
    "scrolled": true,
    "id": "omeIXPSsfufH"
   },
   "outputs": [],
   "source": [
    "# DO NOT EDIT THIS CELL\n",
    "# RUN THIS CELL\n",
    "\n",
    "import matplotlib.pyplot as plt\n",
    "import numpy as np \n",
    "\n",
    "X = [[1,0,0], [1,0,1], [1,1,0], [1,1,1]]\n",
    "y = [-1, 1, -1, 1]\n",
    "\n",
    "# choose random value to start\n",
    "random.seed(2)\n",
    "theta = [1, random.random(),random.random()]\n",
    "\n",
    "w = minimize_stochastic(perceptron_error,\n",
    "                        perceptron_error_gradient,\n",
    "                        X,\n",
    "                        y,\n",
    "                        theta,\n",
    "                        0.1)\n",
    "\n",
    "shade_decision_region(X, y, w, x_min=-1, x_max=2, y_min=-1, y_max=2)"
   ]
  },
  {
   "cell_type": "markdown",
   "metadata": {
    "id": "LhEvSjoQfufH"
   },
   "source": [
    "#### Your output must be similar to the following:\n",
    "\n",
    "![image.png](attachment:image.png)"
   ]
  },
  {
   "cell_type": "markdown",
   "metadata": {
    "id": "zQP63qZOfufI"
   },
   "source": [
    "### Test Case 6: Two Clusters"
   ]
  },
  {
   "cell_type": "code",
   "execution_count": null,
   "metadata": {
    "scrolled": false,
    "id": "Y18CyvTXfufI"
   },
   "outputs": [],
   "source": [
    "# DO NOT EDIT THIS CELL\n",
    "# RUN THIS CELL\n",
    "\n",
    "import matplotlib.pyplot as plt\n",
    "from sklearn.datasets import make_blobs\n",
    "import random\n",
    "\n",
    "Xs, ys = make_blobs(n_samples=1000, n_features=2, centers=2, cluster_std=0.5, random_state=0)\n",
    "Xs1 = np.hstack((np.ones((Xs.shape[0],1)), Xs))\n",
    "\n",
    "# choose random value to start\n",
    "random.seed(2)\n",
    "theta = [1, random.random(),random.random()]\n",
    "\n",
    "X = Xs1.tolist()\n",
    "y = (np.where(ys == 1, 1, -1)).tolist()\n",
    "\n",
    "w = minimize_stochastic(perceptron_error,\n",
    "                        perceptron_error_gradient,\n",
    "                        X,\n",
    "                        y,\n",
    "                        theta,\n",
    "                        0.1)\n",
    "\n",
    "shade_decision_region(X, y, w, x_min=-3, x_max=7, y_min=-3, y_max=7)"
   ]
  },
  {
   "cell_type": "markdown",
   "metadata": {
    "id": "kjmoHORSfufI"
   },
   "source": [
    "#### Your output must be similar to the following:\n",
    "\n",
    "![image.png](attachment:image.png)"
   ]
  },
  {
   "cell_type": "markdown",
   "metadata": {
    "id": "hsGmkAZSfufI"
   },
   "source": [
    "### Test Case 7: Two Big Clusters"
   ]
  },
  {
   "cell_type": "code",
   "execution_count": null,
   "metadata": {
    "scrolled": false,
    "id": "mdUhTbpGfufI"
   },
   "outputs": [],
   "source": [
    "# DO NOT EDIT THIS CELL\n",
    "# RUN THIS CELL\n",
    "\n",
    "import matplotlib.pyplot as plt\n",
    "from sklearn.datasets import make_blobs\n",
    "import random\n",
    "import time\n",
    "\n",
    "Xs, ys = make_blobs(n_samples=100000, n_features=2, centers=2, cluster_std=0.5, random_state=0)\n",
    "Xs1 = np.hstack((np.ones((Xs.shape[0],1)), Xs))\n",
    "\n",
    "# choose random value to start\n",
    "random.seed(2)\n",
    "theta = [1, random.random(),random.random()]\n",
    "\n",
    "X = Xs1.tolist()\n",
    "y = (np.where(ys == 1, 1, -1)).tolist()\n",
    "\n",
    "start = time.time()\n",
    "w = minimize_stochastic(perceptron_error,\n",
    "                        perceptron_error_gradient,\n",
    "                        X,\n",
    "                        y,\n",
    "                        theta,\n",
    "                        0.1)\n",
    "end = time.time()\n",
    "\n",
    "shade_decision_region(X, y, w, x_min=-3, x_max=7, y_min=-3, y_max=7)\n",
    "\n",
    "lapse = end - start\n",
    "total = 10\n",
    "weight = 1.5\n",
    "grace = 100.0\n",
    "my_point = int(total / (weight ** (lapse // grace)))\n",
    "print(f'Total time taken : {lapse} seconds')\n",
    "print(f'My point is {my_point}')"
   ]
  },
  {
   "cell_type": "markdown",
   "metadata": {
    "id": "0FpoWiQWfufJ"
   },
   "source": [
    "#### Your output must be similar to the following:\n",
    "\n",
    "![image.png](attachment:image.png)"
   ]
  },
  {
   "cell_type": "markdown",
   "metadata": {
    "id": "3lXaxb1TfufJ"
   },
   "source": [
    "## Ethics:\n",
    "If you cheat, you will get negatgive of the total points.\n",
    "If the homework total is 22 and you cheat, you get -22."
   ]
  },
  {
   "cell_type": "markdown",
   "metadata": {
    "id": "a9wzsicdfufJ"
   },
   "source": [
    "## What to submit\n",
    "\n",
    "- Run **all cells** after restarting the kernel\n",
    "- Goto \"File -> Print Preview\"\n",
    "- Print the page as pdf\n",
    "- Pdf file name must be in a form of: homework_3_홍길동_202200001.pdf\n",
    "- Submit the pdf file in google classroom\n",
    "- No late homeworks will be accepted\n",
    "- Your homework will be graded on the basis of correctness, performance, and programming skills"
   ]
  }
 ],
 "metadata": {
  "hide_input": false,
  "kernelspec": {
   "display_name": "Python 3",
   "language": "python",
   "name": "python3"
  },
  "language_info": {
   "codemirror_mode": {
    "name": "ipython",
    "version": 3
   },
   "file_extension": ".py",
   "mimetype": "text/x-python",
   "name": "python",
   "nbconvert_exporter": "python",
   "pygments_lexer": "ipython3",
   "version": "3.7.3"
  },
  "varInspector": {
   "cols": {
    "lenName": 16,
    "lenType": 16,
    "lenVar": 40
   },
   "kernels_config": {
    "python": {
     "delete_cmd_postfix": "",
     "delete_cmd_prefix": "del ",
     "library": "var_list.py",
     "varRefreshCmd": "print(var_dic_list())"
    },
    "r": {
     "delete_cmd_postfix": ") ",
     "delete_cmd_prefix": "rm(",
     "library": "var_list.r",
     "varRefreshCmd": "cat(var_dic_list()) "
    }
   },
   "types_to_exclude": [
    "module",
    "function",
    "builtin_function_or_method",
    "instance",
    "_Feature"
   ],
   "window_display": false
  },
  "colab": {
   "provenance": []
  }
 },
 "nbformat": 4,
 "nbformat_minor": 0
}
