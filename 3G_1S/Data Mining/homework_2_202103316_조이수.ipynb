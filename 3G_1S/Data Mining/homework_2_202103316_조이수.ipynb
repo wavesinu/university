{
  "cells": [
    {
      "cell_type": "markdown",
      "metadata": {
        "id": "0TTugJA4xtOc"
      },
      "source": [
        "# Homework 2. Numpy and matplotlib"
      ]
    },
    {
      "cell_type": "markdown",
      "metadata": {
        "id": "EoU998wpxtOf"
      },
      "source": [
        "***Double Click here to edit this cell***\n",
        "\n",
        "- Name: 조이수\n",
        "- Student ID: 202103316\n",
        "- Submission date: 2023.04. 07."
      ]
    },
    {
      "cell_type": "markdown",
      "metadata": {
        "id": "yoI9zJ3gxtOg"
      },
      "source": [
        "## Remark. If any kind of loops including for-loop, while-loops, list comprehension, and other loops are found, you get no points (0점). \n",
        "\n",
        "## Use numpy wherever it is possible. \n"
      ]
    },
    {
      "cell_type": "markdown",
      "metadata": {
        "id": "22FVqtZfxtOg"
      },
      "source": [
        "## Total: 65 pts"
      ]
    },
    {
      "cell_type": "markdown",
      "metadata": {
        "id": "KarOA4-ixtOg"
      },
      "source": [
        "## Problem 1 (5 pts)\n",
        "\n",
        "- The centroid of a finite set of $\\displaystyle {k}$ points $\\displaystyle \\mathbf {x} _{1},\\mathbf {x} _{2},\\ldots ,\\mathbf {x} _{k}$ in $\\displaystyle \\mathbb {R} ^{n}$ is\n",
        "$$\n",
        "\\mathbf {C} ={\\frac {\\mathbf {x} _{1}+\\mathbf {x} _{2}+\\cdots +\\mathbf {x} _{k}}{k}}\n",
        "$$\n",
        "\n",
        "- This point minimizes the sum of squared Euclidean distances between itself and each point in the set.\n",
        "- Compute centroid\n",
        "- Plot dataset and centroid "
      ]
    },
    {
      "cell_type": "code",
      "execution_count": null,
      "metadata": {
        "hide_input": false,
        "id": "qBkdwyH0xtOh"
      },
      "outputs": [],
      "source": [
        "%matplotlib inline\n",
        "\n",
        "import matplotlib.pyplot as plt\n",
        "\n",
        "import numpy as np\n",
        "\n",
        "def plot_centroid(data):\n",
        "  centroid = compute_centroid(data)\n",
        "\n",
        "  plt.scatter(data[:, 0], data[:, 1], marker='o', color='tab:blue')\n",
        "  plt.scatter(centroid[0], centroid[1], marker='s', linewidths=3, edgecolors='red', facecolors='red')\n",
        "  plt.show()\n",
        "\n",
        "def compute_centroid(data):\n",
        "    centroid = np.mean(data, axis=0)\n",
        "    return centroid"
      ]
    },
    {
      "cell_type": "code",
      "execution_count": null,
      "metadata": {
        "colab": {
          "base_uri": "https://localhost:8080/",
          "height": 430
        },
        "id": "rVh72vG1xtOi",
        "outputId": "5088adb8-733d-4767-f99f-f27b454b2a64"
      },
      "outputs": [
        {
          "output_type": "display_data",
          "data": {
            "text/plain": [
              "<Figure size 640x480 with 1 Axes>"
            ],
            "image/png": "[encoded data removed]"
          },
          "metadata": {}
        }
      ],
      "source": [
        "# DO NOT EDIT THIS CELL\n",
        "np.random.seed(0)\n",
        "data = np.random.randn(10,2)\n",
        "plot_centroid(data)"
      ]
    },
    {
      "cell_type": "markdown",
      "metadata": {
        "id": "pBEBVZdOxtOi"
      },
      "source": [
        "**You output must be:**\n",
        "\n",
        "![image.png](attachment:image.png)"
      ]
    },
    {
      "cell_type": "markdown",
      "metadata": {
        "id": "fqRJQOYRxtOi"
      },
      "source": [
        "## Problem 2 (10 pts)\n",
        "\n",
        "- Let $\\textstyle x_{1},x_{2},\\cdots ,x_{n}$ be a set of $\\textstyle n$ points in a space with a distance function $d$. \n",
        "- Medoid is defined as\n",
        "$$\n",
        "x_{\\text{medoid}} = \\text{argmin}_{y \\in \\{x_1, x_2, \\cdots, x_n\\}} \\sum_{i=1}^{n}d(y, x_i)\n",
        "$$\n",
        "- Compute medoid using Euclidean distance as a distance function.\n",
        "- Plot dataset and medoid\n",
        "- *Do not use sklearn, scipy or any module computing distance matrix directly*\n",
        "- Use numpy functions only"
      ]
    },
    {
      "cell_type": "code",
      "execution_count": null,
      "metadata": {
        "id": "skoiNDIbxtOj"
      },
      "outputs": [],
      "source": [
        "%matplotlib inline\n",
        "\n",
        "import numpy as np\n",
        "import matplotlib.pyplot as plt\n",
        "\n",
        "def plot_medoid(data):\n",
        "    def medoid_index(points):\n",
        "        dis = np.sum((points[:, None] - points) ** 2, axis=-1)\n",
        "        return np.argmin(np.sum(dis, axis=-1))\n",
        "\n",
        "    medoid = data[medoid_index(data), :]\n",
        "\n",
        "    plt.scatter(data[:, 0], data[:, 1], marker='o', color='tab:blue')\n",
        "    plt.scatter(medoid[0], medoid[1], marker='s', linewidths=3, edgecolors='red', facecolors='red')\n",
        "    plt.show()"
      ]
    },
    {
      "cell_type": "markdown",
      "source": [],
      "metadata": {
        "id": "oZ47Y1nWPlQB"
      }
    },
    {
      "cell_type": "code",
      "execution_count": null,
      "metadata": {
        "id": "2K_OEE1uxtOj",
        "colab": {
          "base_uri": "https://localhost:8080/",
          "height": 430
        },
        "outputId": "08c3143f-6b36-401b-c0d1-316ca51af683"
      },
      "outputs": [
        {
          "output_type": "display_data",
          "data": {
            "text/plain": [
              "<Figure size 640x480 with 1 Axes>"
            ],
            "image/png": "[encoded data removed]"
          },
          "metadata": {}
        }
      ],
      "source": [
        "# DO NOT EDIT THIS CELL\n",
        "np.random.seed(0)\n",
        "data = np.random.randn(10,2)\n",
        "plot_medoid(data)"
      ]
    },
    {
      "cell_type": "markdown",
      "metadata": {
        "id": "R5p1S13YxtOj"
      },
      "source": [
        "**You output must be:**\n",
        "\n",
        "![image.png](attachment:image.png)"
      ]
    },
    {
      "cell_type": "markdown",
      "metadata": {
        "id": "9iFOfkESxtOj"
      },
      "source": [
        "## Sample code"
      ]
    },
    {
      "cell_type": "code",
      "execution_count": null,
      "metadata": {
        "id": "Yl6kIkxyxtOj",
        "outputId": "167f9e27-8873-4087-cc81-09d175fd9b9d",
        "colab": {
          "base_uri": "https://localhost:8080/",
          "height": 430
        }
      },
      "outputs": [
        {
          "output_type": "display_data",
          "data": {
            "text/plain": [
              "<Figure size 640x480 with 1 Axes>"
            ],
            "image/png": "[encoded data removed]"
          },
          "metadata": {}
        }
      ],
      "source": [
        "%matplotlib inline\n",
        "\n",
        "import matplotlib.pyplot as plt\n",
        "import numpy as np\n",
        "\n",
        "def sample_code():\n",
        "    x = np.arange(10)\n",
        "    y = np.arange(10)\n",
        "    center = (0, 0)\n",
        "    radius = 10\n",
        "    plt.scatter(x, y)\n",
        "    ax = plt.gca()\n",
        "    ax.add_patch(plt.Circle(center, radius, color='r', alpha=0.2))\n",
        "    plt.axis('equal')\n",
        "    plt.show()\n",
        "    \n",
        "sample_code()"
      ]
    },
    {
      "cell_type": "markdown",
      "metadata": {
        "id": "T4aZPY-qxtOk"
      },
      "source": [
        "## Problem 3 (5 pts)\n",
        "\n",
        "- We want to draw a scatter plot using **data**\n",
        "- Plot the center using a green square symbol\n",
        "- Plot points inside **radius** from center using red dots\n",
        "- Plot points out of the **radius** from center using 'C0' colored dots\n",
        "- Draw a filled circle centered at **center** using red color and alpha=0.2"
      ]
    },
    {
      "cell_type": "code",
      "execution_count": null,
      "metadata": {
        "id": "1hJd9e7CxtOk"
      },
      "outputs": [],
      "source": [
        "%matplotlib inline\n",
        "\n",
        "import matplotlib.pyplot as plt\n",
        "import numpy as np\n",
        "\n",
        "\n",
        "def points_within_radius(data, center, radius):\n",
        "    dist = np.sqrt(np.sum((data - center)**2, axis=1))\n",
        "\n",
        "    plt.scatter(data[dist <= radius, 0], data[dist <= radius, 1], color='r')\n",
        "    plt.scatter(data[dist > radius, 0], data[dist > radius, 1], color='C0')\n",
        "    plt.scatter(center[0], center[1], color='g', marker='s')\n",
        "\n",
        "    circle = plt.Circle(center, radius, color='r', alpha=0.2, fill=True)\n",
        "    plt.gca().add_patch(circle)\n",
        "    plt.gca().set_aspect('equal')\n",
        "    \n",
        "    plt.show()\n"
      ]
    },
    {
      "cell_type": "code",
      "execution_count": null,
      "metadata": {
        "id": "c8YEe3m1xtOk",
        "colab": {
          "base_uri": "https://localhost:8080/",
          "height": 430
        },
        "outputId": "d2b5b60e-f172-4cb5-c49b-67f91467d418"
      },
      "outputs": [
        {
          "output_type": "display_data",
          "data": {
            "text/plain": [
              "<Figure size 640x480 with 1 Axes>"
            ],
            "image/png": "[encoded data removed]"
          },
          "metadata": {}
        }
      ],
      "source": [
        "# DO NOT EDIT THIS CELL\n",
        "np.random.seed(1)\n",
        "data = np.random.randn(10,2)\n",
        "radius = 3.0\n",
        "center = np.random.randn(2)\n",
        "points_within_radius(data, center, radius)"
      ]
    },
    {
      "cell_type": "markdown",
      "metadata": {
        "id": "mKmofsowxtOl"
      },
      "source": [
        "**You output must be:**\n",
        "\n",
        "![image.png](attachment:image.png)"
      ]
    },
    {
      "cell_type": "markdown",
      "metadata": {
        "id": "VHlbLxESxtOl"
      },
      "source": [
        "## Problem 4 (10 pts)\n",
        "\n",
        "- We want to find k nearest points from the center\n",
        "- Plot the center using a green square symbol\n",
        "- Plot k-nearest points from center using red dots\n",
        "- Plot other points using 'C0' colored dots\n",
        "- Draw a filled circle centered at **center** using red color and alpha=0.2\n",
        "- *Do not use sklearn, scipy or any module computing k-nearest points directly*\n",
        "- Use numpy functions only"
      ]
    },
    {
      "cell_type": "code",
      "execution_count": null,
      "metadata": {
        "id": "X-lX8SIuxtOl"
      },
      "outputs": [],
      "source": [
        "%matplotlib inline\n",
        "\n",
        "import matplotlib.pyplot as plt\n",
        "import numpy as np\n",
        "\n",
        "\n",
        "def points_k_nearest(data, center, k=1):\n",
        "    dists = np.sqrt(np.sum((data - center) ** 2, axis=1))\n",
        "    \n",
        "    idx = np.argsort(dists)[:k]\n",
        "    k_nearest = data[idx]\n",
        "\n",
        "    fig, ax = plt.subplots()\n",
        "    ax.scatter(data[:, 0], data[:, 1], color='C0')\n",
        "    ax.scatter(k_nearest[:, 0], k_nearest[:, 1], color='r')\n",
        "    ax.scatter(center[0], center[1], color='g', marker='s')\n",
        "\n",
        "    circle = plt.Circle(center, max(dists[idx]), color='r', alpha=0.2, fill=True)\n",
        "    ax.add_patch(circle)\n",
        "    ax.set_aspect('equal')\n",
        "    \n",
        "    plt.show()\n"
      ]
    },
    {
      "cell_type": "code",
      "execution_count": null,
      "metadata": {
        "id": "v3OqvNnqxtOl",
        "colab": {
          "base_uri": "https://localhost:8080/",
          "height": 430
        },
        "outputId": "18509219-ba64-4ef5-e953-7dc1706fff41"
      },
      "outputs": [
        {
          "output_type": "display_data",
          "data": {
            "text/plain": [
              "<Figure size 640x480 with 1 Axes>"
            ],
            "image/png": "[encoded data removed]"
          },
          "metadata": {}
        }
      ],
      "source": [
        "# DO NOT EDIT THIS CELL\n",
        "np.random.seed(1)\n",
        "data = np.random.randn(10,2)\n",
        "k = 5\n",
        "center = np.random.randn(2)\n",
        "points_k_nearest(data, center, k)"
      ]
    },
    {
      "cell_type": "markdown",
      "metadata": {
        "id": "Mop_jD_qxtOl"
      },
      "source": [
        "**You output must be:**\n",
        "\n",
        "![image.png](attachment:image.png)"
      ]
    },
    {
      "cell_type": "code",
      "execution_count": null,
      "metadata": {
        "id": "iEehzTWPxtOl",
        "colab": {
          "base_uri": "https://localhost:8080/",
          "height": 430
        },
        "outputId": "54b368d8-78a8-4c09-d8eb-935485292890"
      },
      "outputs": [
        {
          "output_type": "display_data",
          "data": {
            "text/plain": [
              "<Figure size 640x480 with 1 Axes>"
            ],
            "image/png": "[encoded data removed]"
          },
          "metadata": {}
        }
      ],
      "source": [
        "# DO NOT EDIT THIS CELL\n",
        "np.random.seed(1)\n",
        "data = np.array([[1.,0.],[0.,1.],[-1.,0.],[0.,-1.],[1.,1.],[1.,-1.],[-1.,1.],[-1.,-1.]])\n",
        "np.random.shuffle(data)\n",
        "k = 1\n",
        "center = np.array([0.,0.])\n",
        "points_k_nearest(data, center, k)"
      ]
    },
    {
      "cell_type": "markdown",
      "metadata": {
        "id": "aYhuyGKVxtOl"
      },
      "source": [
        "**You output must be:**\n",
        "\n",
        "![image.png](attachment:image.png)"
      ]
    },
    {
      "cell_type": "markdown",
      "metadata": {
        "id": "rg__qVsyxtOl"
      },
      "source": [
        "## Problem 5 (15 pts)\n",
        "\n",
        "- **find_k_nearest_index** returns the index of the k-nearest\n",
        "- We want to time the execution\n",
        "- *Do not use sklearn, scipy or any module computing k-nearest points directly*\n",
        "- Use numpy functions only"
      ]
    },
    {
      "cell_type": "code",
      "execution_count": null,
      "metadata": {
        "id": "Q32pPCWuxtOl"
      },
      "outputs": [],
      "source": [
        "import numpy as np\n",
        "\n",
        "\n",
        "def find_k_nearest_index(data, center, k=1):\n",
        "    distances = np.sqrt(np.sum((data - center) ** 2, axis=1))\n",
        "    nearest_indices = np.argsort(distances)[:k]\n",
        "    return sorted(nearest_indices)"
      ]
    },
    {
      "cell_type": "code",
      "execution_count": null,
      "metadata": {
        "id": "Lm9ekR_jxtOl",
        "colab": {
          "base_uri": "https://localhost:8080/"
        },
        "outputId": "64c1b2d0-8e80-41e3-9502-66a6563879b1"
      },
      "outputs": [
        {
          "output_type": "stream",
          "name": "stdout",
          "text": [
            "[1]\n"
          ]
        }
      ],
      "source": [
        "# DO NOT EDIT THIS CELL\n",
        "\n",
        "np.random.seed(0)\n",
        "data = np.array([[1.,0.],[0.,1.],[-1.,0.],[0.,-1.],[1.,1.],[1.,-1.],[-1.,1.],[-1.,-1.]])\n",
        "np.random.shuffle(data)\n",
        "k = 1\n",
        "center = np.array([0.,0.])\n",
        "print(find_k_nearest_index(data, center, k))"
      ]
    },
    {
      "cell_type": "markdown",
      "metadata": {
        "id": "2UJdycIXxtOl"
      },
      "source": [
        "**You output must be:**\n",
        "```\n",
        "[1 2 4 5]\n",
        "```"
      ]
    },
    {
      "cell_type": "code",
      "execution_count": null,
      "metadata": {
        "id": "k_VJs8VgxtOl",
        "colab": {
          "base_uri": "https://localhost:8080/"
        },
        "outputId": "c503da7a-e443-4b6e-dd42-95bbc62f45b0"
      },
      "outputs": [
        {
          "output_type": "stream",
          "name": "stdout",
          "text": [
            "[1664998, 3042821, 3307688, 3848441, 5351099]\n",
            "Total time taken : 5.114986181259155 seconds\n",
            "My point is 10\n"
          ]
        }
      ],
      "source": [
        "# DO NOT EDIT THIS CELL\n",
        "\n",
        "import time\n",
        "\n",
        "np.random.seed(100)\n",
        "data = np.random.randn(10000000,20)   # 10 million data\n",
        "k = 5\n",
        "center = np.random.randn(20)\n",
        "start = time.time()\n",
        "print(find_k_nearest_index(data, center, k))\n",
        "end = time.time()\n",
        "\n",
        "lapse = end - start\n",
        "total = 15\n",
        "weight = 1.5\n",
        "grace = 3.0\n",
        "my_point = int(total / (weight ** (lapse // grace)))\n",
        "print(f'Total time taken : {lapse} seconds')\n",
        "print(f'My point is {my_point}')"
      ]
    },
    {
      "cell_type": "markdown",
      "metadata": {
        "id": "GG7qAp0vxtOl"
      },
      "source": [
        "**You output must be:**\n",
        "```\n",
        "[1664998 3042821 3307688 3848441 5351099]\n",
        "```\n",
        "**Your time must be around:**\n",
        "```\n",
        "[1664998 3042821 3307688 3848441 5351099]\n",
        "Total time taken : 1.2571053504943848 seconds\n",
        "My point is 15\n",
        "```"
      ]
    },
    {
      "cell_type": "markdown",
      "metadata": {
        "id": "NmBZcKUuxtOl"
      },
      "source": [
        "## Problem 6 (20 pts)\n",
        "\n",
        "- **find_k_nearest_index_big** returns the index of the k-nearest for 50 million data\n",
        "- We want to time the execution\n",
        "- *Do not use sklearn, scipy or any module computing k-nearest points directly*\n",
        "- Use numpy functions only"
      ]
    },
    {
      "cell_type": "code",
      "execution_count": null,
      "metadata": {
        "id": "38MoNR4wxtOl"
      },
      "outputs": [],
      "source": [
        "import numpy as np\n",
        "\n",
        "def find_k_nearest_index_big(data, center, k=1):\n",
        "    distances = np.sqrt(np.sum((data - center) ** 2, axis=1))\n",
        "    nearest_indices = np.argpartition(distances, k)[:k]\n",
        "    return nearest_indices"
      ]
    },
    {
      "cell_type": "code",
      "execution_count": null,
      "metadata": {
        "id": "zXos2zUdxtOm",
        "colab": {
          "base_uri": "https://localhost:8080/"
        },
        "outputId": "c10ba562-bc6d-4064-ea63-3cc08369eb4f"
      },
      "outputs": [
        {
          "output_type": "stream",
          "name": "stdout",
          "text": [
            "[18013546 12835405  7945485  4094227  5059674]\n",
            "Total time taken : 4.9879536628723145 seconds\n",
            "My point is 5\n"
          ]
        }
      ],
      "source": [
        "# DO NOT EDIT THIS CELL\n",
        "\n",
        "import time\n",
        "\n",
        "np.random.seed(100)\n",
        "data = np.random.randn(20000000,20)   # 20 million data\n",
        "k = 5\n",
        "center = np.random.randn(20)\n",
        "start = time.time()\n",
        "print(find_k_nearest_index_big(data, center, k))\n",
        "end = time.time()\n",
        "\n",
        "lapse = end - start\n",
        "total = 5\n",
        "weight = 1.5\n",
        "grace = 10\n",
        "my_point = int(total / (weight ** (lapse // grace)))\n",
        "print(f'Total time taken : {lapse} seconds')\n",
        "print(f'My point is {my_point}')"
      ]
    },
    {
      "cell_type": "markdown",
      "metadata": {
        "id": "jFgXsFhWxtOm"
      },
      "source": [
        "**Your time must be around:**\n",
        "```\n",
        "[ _____________________________________________ ]\n",
        "Total time taken : 3.840811252593994 seconds\n",
        "My point is 5\n",
        "```"
      ]
    },
    {
      "cell_type": "code",
      "execution_count": null,
      "metadata": {
        "id": "gxEdfHK9xtOm",
        "colab": {
          "base_uri": "https://localhost:8080/"
        },
        "outputId": "9cc86ac4-dab9-4c58-cb1b-f06e65f6a551"
      },
      "outputs": [
        {
          "output_type": "stream",
          "name": "stdout",
          "text": [
            "[17966020 26121068 16101792  9743426  5594529]\n",
            "Total time taken : 5.803452730178833 seconds\n",
            "My point is 5\n"
          ]
        }
      ],
      "source": [
        "# DO NOT EDIT THIS CELL\n",
        "\n",
        "import time\n",
        "\n",
        "np.random.seed(100)\n",
        "data = np.random.randn(30000000,20)   # 30 million data\n",
        "k = 5\n",
        "center = np.random.randn(20)\n",
        "start = time.time()\n",
        "print(find_k_nearest_index_big(data, center, k))\n",
        "end = time.time()\n",
        "\n",
        "lapse = end - start\n",
        "total = 5\n",
        "weight = 1.5\n",
        "grace = 300\n",
        "my_point = int(total / (weight ** (lapse // grace)))\n",
        "print(f'Total time taken : {lapse} seconds')\n",
        "print(f'My point is {my_point}')"
      ]
    },
    {
      "cell_type": "markdown",
      "metadata": {
        "id": "T7yvgemDxtOm"
      },
      "source": [
        "**Your time must be around:**\n",
        "```\n",
        "[ _____________________________________________ ]\n",
        "Total time taken : 81.23930025100708 seconds\n",
        "My point is 5\n",
        "```"
      ]
    },
    {
      "cell_type": "code",
      "execution_count": null,
      "metadata": {
        "id": "LWJwCQSjxtOm"
      },
      "outputs": [],
      "source": [
        "# DO NOT EDIT THIS CELL\n",
        "\n",
        "import time\n",
        "\n",
        "np.random.seed(100)\n",
        "data = np.random.randn(50000000,20)   # 50 million data\n",
        "k = 5\n",
        "center = np.random.randn(20)\n",
        "start = time.time()\n",
        "print(find_k_nearest_index_big(data, center, k))\n",
        "end = time.time()\n",
        "\n",
        "lapse = end - start\n",
        "total = 10\n",
        "weight = 1.5\n",
        "grace = 500\n",
        "my_point = int(total / (weight ** (lapse // grace)))\n",
        "print(f'Total time taken : {lapse} seconds')\n",
        "print(f'My point is {my_point}')"
      ]
    },
    {
      "cell_type": "markdown",
      "metadata": {
        "id": "br-lM0r9xtOm"
      },
      "source": [
        "**Your time must be around:**\n",
        "```\n",
        "[ _____________________________________________ ]\n",
        "Total time taken : 195.7096507549286 seconds\n",
        "My point is 10\n",
        "```"
      ]
    },
    {
      "cell_type": "markdown",
      "metadata": {
        "id": "VaxcYdGmxtOm"
      },
      "source": [
        "## Ethics:\n",
        "If you cheat, you will get negatgive of the total points.\n",
        "If the homework total is 22 and you cheat, you get -22."
      ]
    },
    {
      "cell_type": "markdown",
      "metadata": {
        "id": "XyZveXY_xtOm"
      },
      "source": [
        "## What to submit\n",
        "\n",
        "- Run **all cells** after restarting the kernel\n",
        "- Goto \"File -> Print Preview\"\n",
        "- Print the page as pdf\n",
        "- Submit the pdf file in google classroom\n",
        "- Pdf file name must be in a form of: homework_2_홍길동_202300001.pdf\n",
        "- No late homeworks will be accepted\n",
        "- Your homework will be graded on the basis of correctness, performance, and programming skills"
      ]
    }
  ],
  "metadata": {
    "hide_input": false,
    "kernelspec": {
      "display_name": "Python 3",
      "language": "python",
      "name": "python3"
    },
    "language_info": {
      "codemirror_mode": {
        "name": "ipython",
        "version": 3
      },
      "file_extension": ".py",
      "mimetype": "text/x-python",
      "name": "python",
      "nbconvert_exporter": "python",
      "pygments_lexer": "ipython3",
      "version": "3.7.3"
    },
    "varInspector": {
      "cols": {
        "lenName": 16,
        "lenType": 16,
        "lenVar": 40
      },
      "kernels_config": {
        "python": {
          "delete_cmd_postfix": "",
          "delete_cmd_prefix": "del ",
          "library": "var_list.py",
          "varRefreshCmd": "print(var_dic_list())"
        },
        "r": {
          "delete_cmd_postfix": ") ",
          "delete_cmd_prefix": "rm(",
          "library": "var_list.r",
          "varRefreshCmd": "cat(var_dic_list()) "
        }
      },
      "types_to_exclude": [
        "module",
        "function",
        "builtin_function_or_method",
        "instance",
        "_Feature"
      ],
      "window_display": false
    },
    "colab": {
      "provenance": []
    }
  },
  "nbformat": 4,
  "nbformat_minor": 0
}