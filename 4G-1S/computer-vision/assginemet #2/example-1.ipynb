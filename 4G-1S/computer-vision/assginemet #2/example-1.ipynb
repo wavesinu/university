{
 "cells": [
  {
   "cell_type": "code",
   "execution_count": 1,
   "id": "initial_id",
   "metadata": {
    "collapsed": true,
    "ExecuteTime": {
     "end_time": "2024-03-21T08:21:58.393328Z",
     "start_time": "2024-03-21T08:21:58.047739Z"
    }
   },
   "outputs": [],
   "source": [
    "import cv2 as cv\n",
    "import matplotlib.pyplot as plt"
   ]
  },
  {
   "cell_type": "code",
   "outputs": [],
   "source": [
    "gray = cv.imread('pattern.png')\n",
    "kernel = cv.getStructuringElement(cv.MORPH_ELLIPSE, (15, 15))\n",
    "dilation = cv.erode(gray, kernel, iterations=1)\n",
    "closing = cv.morphologyEx(gray, cv.MORPH_CLOSE, kernel)"
   ],
   "metadata": {
    "collapsed": false,
    "ExecuteTime": {
     "end_time": "2024-03-21T08:21:58.401859Z",
     "start_time": "2024-03-21T08:21:58.394242Z"
    }
   },
   "id": "e6fe2729f318b073",
   "execution_count": 2
  },
  {
   "cell_type": "code",
   "outputs": [
    {
     "data": {
      "text/plain": "<Figure size 640x480 with 3 Axes>",
      "image/png": "[encoded data removed]"
     },
     "metadata": {},
     "output_type": "display_data"
    }
   ],
   "source": [
    "plt.subplot(1, 3, 1)\n",
    "plt.imshow(gray)\n",
    "plt.subplot(1, 3, 2)\n",
    "plt.imshow(dilation)\n",
    "plt.subplot(1, 3, 3)\n",
    "plt.imshow(closing) # dilation and erosion \n",
    "plt.show()"
   ],
   "metadata": {
    "collapsed": false,
    "ExecuteTime": {
     "end_time": "2024-03-21T08:55:44.172028Z",
     "start_time": "2024-03-21T08:55:43.982939Z"
    }
   },
   "id": "4d8349d0c2d47298",
   "execution_count": 4
  }
 ],
 "metadata": {
  "kernelspec": {
   "display_name": "Python 3",
   "language": "python",
   "name": "python3"
  },
  "language_info": {
   "codemirror_mode": {
    "name": "ipython",
    "version": 2
   },
   "file_extension": ".py",
   "mimetype": "text/x-python",
   "name": "python",
   "nbconvert_exporter": "python",
   "pygments_lexer": "ipython2",
   "version": "2.7.6"
  }
 },
 "nbformat": 4,
 "nbformat_minor": 5
}
