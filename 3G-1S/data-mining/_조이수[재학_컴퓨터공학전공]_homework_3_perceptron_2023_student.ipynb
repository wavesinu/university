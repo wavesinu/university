{
  "cells": [
    {
      "cell_type": "markdown",
      "metadata": {
        "id": "dbBOUEMzg5jf"
      },
      "source": [
        "# Homework 3-P. Perceptron"
      ]
    },
    {
      "cell_type": "markdown",
      "metadata": {
        "id": "7pVvXxgZg5jg"
      },
      "source": [
        "***Double Click here to edit this cell***\n",
        "\n",
        "- Name: 조이수\n",
        "- Student ID: 202103316\n",
        "- Submission date: "
      ]
    },
    {
      "cell_type": "markdown",
      "metadata": {
        "id": "6xtGRZYCg5jh"
      },
      "source": [
        "## Do this homework on anaconda\n",
        "## Homework Purpose: Learn SGD and Perceptron"
      ]
    },
    {
      "cell_type": "markdown",
      "metadata": {
        "id": "VE2FAemJg5jh"
      },
      "source": [
        "## Perceptron model"
      ]
    },
    {
      "cell_type": "markdown",
      "metadata": {
        "id": "F-66cHRAg5ji"
      },
      "source": [
        "![image-3.png](attachment:image-3.png)"
      ]
    },
    {
      "cell_type": "markdown",
      "metadata": {
        "id": "vr_psPv5g5ji"
      },
      "source": [
        "### The net input of the perceptron including the bias"
      ]
    },
    {
      "cell_type": "markdown",
      "metadata": {
        "id": "so_22mlcg5ji"
      },
      "source": [
        "![image-2.png](attachment:image-2.png)"
      ]
    },
    {
      "cell_type": "markdown",
      "metadata": {
        "id": "VkHHLwBbg5ji"
      },
      "source": [
        "#### Remark:\n",
        "\n",
        "$$\\sum_{i=1}^{m} w_i x_i + b = b + w_1 x_1 + \\cdots + w_m x_m = (w_0, w_1, \\cdots, w_m) \\cdot (1, x_1, \\cdots, x_m)$$\n",
        "where $w_0 = b$"
      ]
    },
    {
      "cell_type": "markdown",
      "metadata": {
        "id": "6njNFJzjg5jj"
      },
      "source": [
        "### Vector form of the net input"
      ]
    },
    {
      "cell_type": "markdown",
      "metadata": {
        "id": "rmtqehRMg5jk"
      },
      "source": [
        "![image.png](attachment:image.png)"
      ]
    },
    {
      "cell_type": "markdown",
      "metadata": {
        "id": "uHyPVxR1g5jk"
      },
      "source": [
        "### The perceptron fires if and only if the net input is non-negative"
      ]
    },
    {
      "cell_type": "markdown",
      "metadata": {
        "id": "lWMmqx55g5jk"
      },
      "source": [
        "![image.png](attachment:image.png)"
      ]
    },
    {
      "cell_type": "markdown",
      "metadata": {
        "id": "VID88XxQg5jk"
      },
      "source": [
        "### Perceptron as a Binary Classifier\n",
        "\n",
        "- A linear classifier uses lines to classify data points—any object on one side of the line is part of one class and any object on the other side is part of the other class. \n",
        "- A successful linear classifier could use $H_1$ or $H_2$ to discriminate between the two classes, whereas $H_3$ would be a poor decision boundary.\n",
        "- $H_1$ or $H_2$ are called a separating hyperplane"
      ]
    },
    {
      "cell_type": "markdown",
      "metadata": {
        "id": "OmRDCtDdg5jl"
      },
      "source": [
        "![image-2.png](attachment:image-2.png)"
      ]
    },
    {
      "cell_type": "markdown",
      "metadata": {
        "id": "s-vaLqfgg5jl"
      },
      "source": [
        "### Geometric Interpretation of a separating hyperplane"
      ]
    },
    {
      "cell_type": "markdown",
      "metadata": {
        "id": "joUOxHvzg5jl"
      },
      "source": [
        "![image-3.png](attachment:image-3.png)"
      ]
    },
    {
      "cell_type": "markdown",
      "metadata": {
        "id": "T_OO6Zlmg5jm"
      },
      "source": [
        "### When a data is miclassified, we move w to a certain direction\n",
        "\n",
        "- Which direction? How much should we move? Figure it out"
      ]
    },
    {
      "cell_type": "markdown",
      "metadata": {
        "id": "BXiMvk8Gg5jm"
      },
      "source": [
        "![image-2.png](attachment:image-2.png)"
      ]
    },
    {
      "cell_type": "markdown",
      "metadata": {
        "id": "nacQLVw7g5jm"
      },
      "source": [
        "## Remark: gradient_descent.py, linear_algebra.py must be in the folder having this notebook file"
      ]
    },
    {
      "cell_type": "code",
      "execution_count": 1,
      "metadata": {
        "id": "788Ac8Qzg5jm",
        "pycharm": {
          "is_executing": true
        }
      },
      "outputs": [],
      "source": [
        "# run this cell\n",
        "from gradient_descent import *\n",
        "from linear_algebra import *"
      ]
    },
    {
      "cell_type": "markdown",
      "metadata": {
        "id": "GLCXCc5Vg5jm"
      },
      "source": [
        "## Problem 1 (30 pts)\n",
        "\n",
        "- We want to implement a simple neural network called ```Perceptron```.\n",
        "- We will use ```minimize_stochastic``` to optimize the network"
      ]
    },
    {
      "cell_type": "markdown",
      "metadata": {
        "id": "xaZhin8Ag5jm"
      },
      "source": [
        "### The code of SGD\n",
        "```python\n",
        "def in_random_order(data):\n",
        "    \"\"\"generator that returns the elements of data in random order\"\"\"\n",
        "    indexes = [i for i, _ in enumerate(data)]  # create a list of indexes\n",
        "    random.shuffle(indexes)                    # shuffle them\n",
        "    for i in indexes:                          # return the data in that order\n",
        "        yield data[i]\n",
        "        \n",
        "def minimize_stochastic(target_fn, gradient_fn, x, y, theta_0, alpha_0=0.01):\n",
        "\n",
        "    data = list(zip(x, y))\n",
        "    theta = theta_0\n",
        "    data = list(zip(x, y))\n",
        "    theta = theta_0                             # initial guess\n",
        "    alpha = alpha_0                             # initial step size\n",
        "    min_theta, min_value = None, float(\"inf\")   # the minimum so far\n",
        "    iterations_with_no_improvement = 0  \n",
        "\n",
        "    # if we ever go 100 iterations with no improvement, stop\n",
        "    while iterations_with_no_improvement < 100:\n",
        "        count += 1\n",
        "        value = sum( target_fn(x_i, y_i, theta) for x_i, y_i in data )\n",
        "\n",
        "        if value < min_value:\n",
        "            # if we've found a new minimum, remember it\n",
        "            # and go back to the original step size\n",
        "            min_theta, min_value = theta, value\n",
        "            iterations_with_no_improvement = 0\n",
        "            alpha = alpha_0\n",
        "        else:\n",
        "            # otherwise we're not improving, so try shrinking the step size\n",
        "            iterations_with_no_improvement += 1\n",
        "            alpha *= 0.9\n",
        "\n",
        "        # and take a gradient step for each of the data points\n",
        "        for x_i, y_i in in_random_order(data):\n",
        "            gradient_i = gradient_fn(x_i, y_i, theta)\n",
        "            theta = vector_subtract(theta, scalar_multiply(alpha, gradient_i))\n",
        "            \n",
        "    min_theta = theta\n",
        "    \n",
        "    return min_theta\n",
        "```"
      ]
    },
    {
      "cell_type": "markdown",
      "metadata": {
        "id": "KuD-PRqeg5jn"
      },
      "source": [
        "### You should define an error function and a gradient function for perceptron:\n",
        "### Remark: ONE or TWO lines for an error function and a gradient function are enough. If the number of lines > 2, you get a penalty"
      ]
    },
    {
      "cell_type": "markdown",
      "metadata": {
        "id": "0N7YVOckg5jn"
      },
      "source": [
        "### Define your error function here:"
      ]
    },
    {
      "cell_type": "code",
      "execution_count": 11,
      "metadata": {
        "id": "lGDUj6Whg5jn"
      },
      "outputs": [],
      "source": [
        "# YOUR CODE MUST BE HERE\n",
        "\n",
        "\n",
        "def perceptron_error(x_i, y_i, w):\n",
        "    # return max(0, -y_i * dot(x_i, w))\n",
        "    return y_i - (1 if sum([x_i[j] * w[j] for j in range(len(x_i))]) >= 0 else -1)\n"
      ]
    },
    {
      "cell_type": "markdown",
      "metadata": {
        "id": "n3WQnT8wg5jo"
      },
      "source": [
        "### Define your gradient function here:"
      ]
    },
    {
      "cell_type": "code",
      "execution_count": 12,
      "metadata": {
        "id": "s4ap4yIPg5jo"
      },
      "outputs": [],
      "source": [
        "# YOUR CODE MUST BE HERE\n",
        "\n",
        "def perceptron_error_gradient(x_i, y_i, w):\n",
        "    if perceptron_error(x_i, y_i, w) == 0:\n",
        "        return [0 for _ in range(len(w))]\n",
        "    else:\n",
        "        return [-y_i * x_ij for x_ij in x_i]    "
      ]
    },
    {
      "cell_type": "markdown",
      "metadata": {
        "id": "U-7mfFk6g5jo"
      },
      "source": [
        "### Define a function to shade a decision boundary\n",
        "\n",
        "- The region of $w_1 \\cdot x_1 + w_2 \\cdot x_2 + w_0 \\ge 0$  are shaded as red; otherwise shaded as blue\n",
        "- ```x_min, x_max, y_min, y_max``` defines a shading area\n",
        "- The resulting shading and plotting must be very similar as shown in the given answer images"
      ]
    },
    {
      "cell_type": "code",
      "execution_count": 17,
      "metadata": {
        "id": "1lFhsd9jg5jo"
      },
      "outputs": [],
      "source": [
        "# YOUR CODE MUST BE HERE\n",
        "import numpy as np\n",
        "import matplotlib.pyplot as plt\n",
        "\n",
        "# def shade_decision_region(X, y, w, x_min, x_max, y_min, y_max):\n",
        "#     x = np.arange(x_min, x_max, 0.1)\n",
        "#     y = np.arange(y_min, y_max, 0.1)\n",
        "\n",
        "#     xx, yy = np.meshgrid(x, y)\n",
        "#     z = w[1]*xx + w[2]*yy + w[0]\n",
        "#     plt.contourf(xx, yy, z, levels=[-1, 0, 1], colors=['blue', 'red'], alpha=0.5)\n",
        "#     plt.xlim(x_min, x_max)\n",
        "#     plt.ylim(y_min, y_max)\n",
        "#     plt.show()\n",
        "\n",
        "\n",
        "def shade_decision_region(X, y, w, x_min=-1.0, x_max=2.0, y_min=-1.0, y_max=2.0):\n",
        "    # define a grid of points to evaluate the decision boundary on\n",
        "    xx, yy = np.meshgrid(np.linspace(x_min, x_max, 100), np.linspace(y_min, y_max, 100))\n",
        "    Z = np.zeros(xx.shape)\n",
        "\n",
        "    # evaluate the value of the decision boundary at each point in the grid\n",
        "    for i in range(xx.shape[0]):\n",
        "        for j in range(xx.shape[1]):\n",
        "            x = [1, xx[i, j], yy[i, j]]\n",
        "            Z[i, j] = np.dot(x, w)\n",
        "\n",
        "    # plot the decision boundary and the shaded regions\n",
        "    fig, ax = plt.subplots(figsize=(8, 6))\n",
        "    ax.contourf(\n",
        "        xx, yy, Z, levels=[-np.inf, 0, np.inf], colors=[\"blue\", \"red\"], alpha=0.5\n",
        "    )\n",
        "    ax.scatter(X[:, 1][y == -1], X[:, 2][y == -1], c=\"blue\", label=\"-1\")\n",
        "    ax.scatter(X[:, 1][y == 1], X[:, 2][y == 1], c=\"red\", label=\"1\")\n",
        "    ax.set_xlabel(\"X1\")\n",
        "    ax.set_ylabel(\"X2\")\n",
        "    ax.legend()\n",
        "    plt.show()\n"
      ]
    },
    {
      "cell_type": "markdown",
      "metadata": {
        "id": "lW1Fjxq4g5jo"
      },
      "source": [
        "### Test Case 1: OR"
      ]
    },
    {
      "cell_type": "code",
      "execution_count": 18,
      "metadata": {
        "colab": {
          "base_uri": "https://localhost:8080/",
          "height": 435
        },
        "id": "GsIhjxH0g5jo",
        "outputId": "f58e8824-9f04-4508-db5e-522eb4cead2e",
        "scrolled": true
      },
      "outputs": [
        {
          "ename": "TypeError",
          "evalue": "list indices must be integers or slices, not tuple",
          "output_type": "error",
          "traceback": [
            "\u001b[0;31m---------------------------------------------------------------------------\u001b[0m",
            "\u001b[0;31mTypeError\u001b[0m                                 Traceback (most recent call last)",
            "Cell \u001b[0;32mIn[18], line 20\u001b[0m\n\u001b[1;32m     11\u001b[0m theta \u001b[39m=\u001b[39m [\u001b[39m1\u001b[39m, random\u001b[39m.\u001b[39mrandom(),random\u001b[39m.\u001b[39mrandom()]\n\u001b[1;32m     13\u001b[0m w \u001b[39m=\u001b[39m minimize_stochastic(perceptron_error,\n\u001b[1;32m     14\u001b[0m                         perceptron_error_gradient,\n\u001b[1;32m     15\u001b[0m                         X,\n\u001b[1;32m     16\u001b[0m                         y,\n\u001b[1;32m     17\u001b[0m                         theta,\n\u001b[1;32m     18\u001b[0m                         \u001b[39m0.1\u001b[39m)\n\u001b[0;32m---> 20\u001b[0m shade_decision_region(X, y, w, x_min\u001b[39m=\u001b[39;49m\u001b[39m-\u001b[39;49m\u001b[39m1\u001b[39;49m, x_max\u001b[39m=\u001b[39;49m\u001b[39m2\u001b[39;49m, y_min\u001b[39m=\u001b[39;49m\u001b[39m-\u001b[39;49m\u001b[39m1\u001b[39;49m, y_max\u001b[39m=\u001b[39;49m\u001b[39m2\u001b[39;49m)\n",
            "Cell \u001b[0;32mIn[17], line 33\u001b[0m, in \u001b[0;36mshade_decision_region\u001b[0;34m(X, y, w, x_min, x_max, y_min, y_max)\u001b[0m\n\u001b[1;32m     29\u001b[0m fig, ax \u001b[39m=\u001b[39m plt\u001b[39m.\u001b[39msubplots(figsize\u001b[39m=\u001b[39m(\u001b[39m8\u001b[39m, \u001b[39m6\u001b[39m))\n\u001b[1;32m     30\u001b[0m ax\u001b[39m.\u001b[39mcontourf(\n\u001b[1;32m     31\u001b[0m     xx, yy, Z, levels\u001b[39m=\u001b[39m[\u001b[39m-\u001b[39mnp\u001b[39m.\u001b[39minf, \u001b[39m0\u001b[39m, np\u001b[39m.\u001b[39minf], colors\u001b[39m=\u001b[39m[\u001b[39m\"\u001b[39m\u001b[39mblue\u001b[39m\u001b[39m\"\u001b[39m, \u001b[39m\"\u001b[39m\u001b[39mred\u001b[39m\u001b[39m\"\u001b[39m], alpha\u001b[39m=\u001b[39m\u001b[39m0.5\u001b[39m\n\u001b[1;32m     32\u001b[0m )\n\u001b[0;32m---> 33\u001b[0m ax\u001b[39m.\u001b[39mscatter(X[:, \u001b[39m1\u001b[39;49m][y \u001b[39m==\u001b[39m \u001b[39m-\u001b[39m\u001b[39m1\u001b[39m], X[:, \u001b[39m2\u001b[39m][y \u001b[39m==\u001b[39m \u001b[39m-\u001b[39m\u001b[39m1\u001b[39m], c\u001b[39m=\u001b[39m\u001b[39m\"\u001b[39m\u001b[39mblue\u001b[39m\u001b[39m\"\u001b[39m, label\u001b[39m=\u001b[39m\u001b[39m\"\u001b[39m\u001b[39m-1\u001b[39m\u001b[39m\"\u001b[39m)\n\u001b[1;32m     34\u001b[0m ax\u001b[39m.\u001b[39mscatter(X[:, \u001b[39m1\u001b[39m][y \u001b[39m==\u001b[39m \u001b[39m1\u001b[39m], X[:, \u001b[39m2\u001b[39m][y \u001b[39m==\u001b[39m \u001b[39m1\u001b[39m], c\u001b[39m=\u001b[39m\u001b[39m\"\u001b[39m\u001b[39mred\u001b[39m\u001b[39m\"\u001b[39m, label\u001b[39m=\u001b[39m\u001b[39m\"\u001b[39m\u001b[39m1\u001b[39m\u001b[39m\"\u001b[39m)\n\u001b[1;32m     35\u001b[0m ax\u001b[39m.\u001b[39mset_xlabel(\u001b[39m\"\u001b[39m\u001b[39mX1\u001b[39m\u001b[39m\"\u001b[39m)\n",
            "\u001b[0;31mTypeError\u001b[0m: list indices must be integers or slices, not tuple"
          ]
        },
        {
          "data": {
            "image/png": "[encoded data removed]",
            "text/plain": [
              "<Figure size 800x600 with 1 Axes>"
            ]
          },
          "metadata": {},
          "output_type": "display_data"
        }
      ],
      "source": [
        "# DO NOT EDIT THIS CELL\n",
        "# RUN THIS CELL\n",
        "\n",
        "import matplotlib.pyplot as plt\n",
        "import numpy as np \n",
        "\n",
        "X = [[1,0,0], [1,0,1], [1,1,0], [1,1,1]]\n",
        "y = [-1, 1, 1, 1]\n",
        "\n",
        "random.seed(2)\n",
        "theta = [1, random.random(),random.random()]\n",
        "\n",
        "w = minimize_stochastic(perceptron_error,\n",
        "                        perceptron_error_gradient,\n",
        "                        X,\n",
        "                        y,\n",
        "                        theta,\n",
        "                        0.1)\n",
        "\n",
        "shade_decision_region(X, y, w, x_min=-1, x_max=2, y_min=-1, y_max=2)"
      ]
    },
    {
      "cell_type": "markdown",
      "metadata": {
        "id": "AKSBEIz2g5jp"
      },
      "source": [
        "#### Your output must be similar to the following:\n",
        "\n",
        "![image.png](attachment:image.png)"
      ]
    },
    {
      "cell_type": "markdown",
      "metadata": {
        "id": "v5wKkHJtg5jp"
      },
      "source": [
        "### Test Case 2: AND"
      ]
    },
    {
      "cell_type": "code",
      "execution_count": 6,
      "metadata": {
        "id": "PBOlShJng5jp",
        "scrolled": false
      },
      "outputs": [
        {
          "data": {
            "image/png": "[encoded data removed]",
            "text/plain": [
              "<Figure size 640x480 with 1 Axes>"
            ]
          },
          "metadata": {},
          "output_type": "display_data"
        }
      ],
      "source": [
        "# DO NOT EDIT THIS CELL\n",
        "# RUN THIS CELL\n",
        "\n",
        "import matplotlib.pyplot as plt\n",
        "import numpy as np \n",
        "\n",
        "X = [[1,0,0], [1,0,1], [1,1,0], [1,1,1]]\n",
        "y = [-1, -1, -1, 1]\n",
        "\n",
        "# choose random value to start\n",
        "random.seed(2)\n",
        "theta = [1, random.random(),random.random()]\n",
        "\n",
        "w = minimize_stochastic(perceptron_error,\n",
        "                        perceptron_error_gradient,\n",
        "                        X,\n",
        "                        y,\n",
        "                        theta,\n",
        "                        0.1)\n",
        "\n",
        "shade_decision_region(X, y, w, x_min=-1, x_max=2, y_min=-1, y_max=2)"
      ]
    },
    {
      "cell_type": "markdown",
      "metadata": {
        "id": "ayM0sKqXg5jp"
      },
      "source": [
        "#### Your output must be similar to the following:\n",
        "\n",
        "![image.png](attachment:image.png)"
      ]
    },
    {
      "cell_type": "markdown",
      "metadata": {
        "id": "99gufkg7g5jq"
      },
      "source": [
        "### Test Case 3: XOR"
      ]
    },
    {
      "cell_type": "code",
      "execution_count": 7,
      "metadata": {
        "id": "MpHaOAXkg5jq",
        "scrolled": false
      },
      "outputs": [
        {
          "data": {
            "image/png": "[encoded data removed]",
            "text/plain": [
              "<Figure size 640x480 with 1 Axes>"
            ]
          },
          "metadata": {},
          "output_type": "display_data"
        }
      ],
      "source": [
        "# DO NOT EDIT THIS CELL\n",
        "# RUN THIS CELL\n",
        "\n",
        "import matplotlib.pyplot as plt\n",
        "import numpy as np \n",
        "\n",
        "X = [[1,0,0], [1,0,1], [1,1,0], [1,1,1]]\n",
        "y = [-1, 1, 1, -1]\n",
        "\n",
        "# choose random value to start\n",
        "random.seed(2)\n",
        "theta = [1, random.random(),random.random()]\n",
        "\n",
        "w = minimize_stochastic(perceptron_error,\n",
        "                        perceptron_error_gradient,\n",
        "                        X,\n",
        "                        y,\n",
        "                        theta,\n",
        "                        0.1)\n",
        "\n",
        "shade_decision_region(X, y, w, x_min=-1, x_max=2, y_min=-1, y_max=2)"
      ]
    },
    {
      "cell_type": "markdown",
      "metadata": {
        "id": "UDTmekqng5jq"
      },
      "source": [
        "#### Your output must be similar to the following:\n",
        "\n",
        "![image.png](attachment:image.png)"
      ]
    },
    {
      "cell_type": "markdown",
      "metadata": {
        "id": "i866XasDg5jq"
      },
      "source": [
        "### Test Case 4: Right"
      ]
    },
    {
      "cell_type": "code",
      "execution_count": 8,
      "metadata": {
        "id": "fZ660Bybg5jq",
        "scrolled": true
      },
      "outputs": [
        {
          "data": {
            "image/png": "[encoded data removed]",
            "text/plain": [
              "<Figure size 640x480 with 1 Axes>"
            ]
          },
          "metadata": {},
          "output_type": "display_data"
        }
      ],
      "source": [
        "# DO NOT EDIT THIS CELL\n",
        "# RUN THIS CELL\n",
        "\n",
        "import matplotlib.pyplot as plt\n",
        "import numpy as np \n",
        "\n",
        "X = [[1,0,0], [1,0,1], [1,1,0], [1,1,1]]\n",
        "y = [-1, -1, 1, 1]\n",
        "\n",
        "# choose random value to start\n",
        "random.seed(2)\n",
        "theta = [1, random.random(),random.random()]\n",
        "\n",
        "w = minimize_stochastic(perceptron_error,\n",
        "                        perceptron_error_gradient,\n",
        "                        X,\n",
        "                        y,\n",
        "                        theta,\n",
        "                        0.1)\n",
        "\n",
        "shade_decision_region(X, y, w, x_min=-1, x_max=2, y_min=-1, y_max=2)"
      ]
    },
    {
      "cell_type": "markdown",
      "metadata": {
        "id": "tBkXiQ6Ag5jq"
      },
      "source": [
        "#### Your output must be similar to the following:\n",
        "\n",
        "![image.png](attachment:image.png)"
      ]
    },
    {
      "cell_type": "markdown",
      "metadata": {
        "id": "p0S9Ny7gg5jq"
      },
      "source": [
        "### Test Case 5: Upper"
      ]
    },
    {
      "cell_type": "code",
      "execution_count": 9,
      "metadata": {
        "id": "vigxjjzyg5jq",
        "scrolled": true
      },
      "outputs": [
        {
          "data": {
            "image/png": "[encoded data removed]",
            "text/plain": [
              "<Figure size 640x480 with 1 Axes>"
            ]
          },
          "metadata": {},
          "output_type": "display_data"
        }
      ],
      "source": [
        "# DO NOT EDIT THIS CELL\n",
        "# RUN THIS CELL\n",
        "\n",
        "import matplotlib.pyplot as plt\n",
        "import numpy as np \n",
        "\n",
        "X = [[1,0,0], [1,0,1], [1,1,0], [1,1,1]]\n",
        "y = [-1, 1, -1, 1]\n",
        "\n",
        "# choose random value to start\n",
        "random.seed(2)\n",
        "theta = [1, random.random(),random.random()]\n",
        "\n",
        "w = minimize_stochastic(perceptron_error,\n",
        "                        perceptron_error_gradient,\n",
        "                        X,\n",
        "                        y,\n",
        "                        theta,\n",
        "                        0.1)\n",
        "\n",
        "shade_decision_region(X, y, w, x_min=-1, x_max=2, y_min=-1, y_max=2)"
      ]
    },
    {
      "cell_type": "markdown",
      "metadata": {
        "id": "erYhKCzjg5jq"
      },
      "source": [
        "#### Your output must be similar to the following:\n",
        "\n",
        "![image.png](attachment:image.png)"
      ]
    },
    {
      "cell_type": "markdown",
      "metadata": {
        "id": "T8UqRWrxg5jr"
      },
      "source": [
        "### Test Case 6: Two Clusters"
      ]
    },
    {
      "cell_type": "code",
      "execution_count": null,
      "metadata": {
        "id": "JdLvbtZmg5jr",
        "scrolled": false
      },
      "outputs": [],
      "source": [
        "# DO NOT EDIT THIS CELL\n",
        "# RUN THIS CELL\n",
        "\n",
        "import matplotlib.pyplot as plt\n",
        "from sklearn.datasets import make_blobs\n",
        "import random\n",
        "\n",
        "Xs, ys = make_blobs(n_samples=1000, n_features=2, centers=2, cluster_std=0.5, random_state=0)\n",
        "Xs1 = np.hstack((np.ones((Xs.shape[0],1)), Xs))\n",
        "\n",
        "# choose random value to start\n",
        "random.seed(2)\n",
        "theta = [1, random.random(),random.random()]\n",
        "\n",
        "X = Xs1.tolist()\n",
        "y = (np.where(ys == 1, 1, -1)).tolist()\n",
        "\n",
        "w = minimize_stochastic(perceptron_error,\n",
        "                        perceptron_error_gradient,\n",
        "                        X,\n",
        "                        y,\n",
        "                        theta,\n",
        "                        0.1)\n",
        "\n",
        "shade_decision_region(X, y, w, x_min=-3, x_max=7, y_min=-3, y_max=7)"
      ]
    },
    {
      "cell_type": "markdown",
      "metadata": {
        "id": "QjsPJRLwg5jr"
      },
      "source": [
        "#### Your output must be similar to the following:\n",
        "\n",
        "![image.png](attachment:image.png)"
      ]
    },
    {
      "cell_type": "markdown",
      "metadata": {
        "id": "NC8R3qu1g5jr"
      },
      "source": [
        "### Test Case 7: Two Big Clusters"
      ]
    },
    {
      "cell_type": "code",
      "execution_count": null,
      "metadata": {
        "id": "oLi-6BEsg5jr",
        "scrolled": false
      },
      "outputs": [],
      "source": [
        "# DO NOT EDIT THIS CELL\n",
        "# RUN THIS CELL\n",
        "\n",
        "import matplotlib.pyplot as plt\n",
        "from sklearn.datasets import make_blobs\n",
        "import random\n",
        "import time\n",
        "\n",
        "Xs, ys = make_blobs(n_samples=100000, n_features=2, centers=2, cluster_std=0.5, random_state=0)\n",
        "Xs1 = np.hstack((np.ones((Xs.shape[0],1)), Xs))\n",
        "\n",
        "# choose random value to start\n",
        "random.seed(2)\n",
        "theta = [1, random.random(),random.random()]\n",
        "\n",
        "X = Xs1.tolist()\n",
        "y = (np.where(ys == 1, 1, -1)).tolist()\n",
        "\n",
        "start = time.time()\n",
        "w = minimize_stochastic(perceptron_error,\n",
        "                        perceptron_error_gradient,\n",
        "                        X,\n",
        "                        y,\n",
        "                        theta,\n",
        "                        0.1)\n",
        "end = time.time()\n",
        "\n",
        "shade_decision_region(X, y, w, x_min=-3, x_max=7, y_min=-3, y_max=7)\n",
        "\n",
        "lapse = end - start\n",
        "total = 10\n",
        "weight = 1.5\n",
        "grace = 100.0\n",
        "my_point = int(total / (weight ** (lapse // grace)))\n",
        "print(f'Total time taken : {lapse} seconds')\n",
        "print(f'My point is {my_point}')"
      ]
    },
    {
      "cell_type": "markdown",
      "metadata": {
        "id": "k0Fn2NK3g5js"
      },
      "source": [
        "#### Your output must be similar to the following:\n",
        "\n",
        "![image.png](attachment:image.png)"
      ]
    },
    {
      "cell_type": "markdown",
      "metadata": {
        "id": "4c_jcQJRg5js"
      },
      "source": [
        "## Ethics:\n",
        "If you cheat, you will get negatgive of the total points.\n",
        "If the homework total is 22 and you cheat, you get -22."
      ]
    },
    {
      "cell_type": "markdown",
      "metadata": {
        "id": "NQ1rQJxAg5js"
      },
      "source": [
        "## What to submit\n",
        "\n",
        "- Run **all cells** after restarting the kernel\n",
        "- Goto \"File -> Print Preview\"\n",
        "- Print the page as pdf\n",
        "- Pdf file name must be in a form of: homework_3_홍길동_202200001.pdf\n",
        "- Submit the pdf file in google classroom\n",
        "- No late homeworks will be accepted\n",
        "- Your homework will be graded on the basis of correctness, performance, and programming skills"
      ]
    }
  ],
  "metadata": {
    "colab": {
      "provenance": []
    },
    "hide_input": false,
    "kernelspec": {
      "display_name": "Python 3",
      "language": "python",
      "name": "python3"
    },
    "language_info": {
      "codemirror_mode": {
        "name": "ipython",
        "version": 3
      },
      "file_extension": ".py",
      "mimetype": "text/x-python",
      "name": "python",
      "nbconvert_exporter": "python",
      "pygments_lexer": "ipython3",
      "version": "3.9.6"
    },
    "varInspector": {
      "cols": {
        "lenName": 16,
        "lenType": 16,
        "lenVar": 40
      },
      "kernels_config": {
        "python": {
          "delete_cmd_postfix": "",
          "delete_cmd_prefix": "del ",
          "library": "var_list.py",
          "varRefreshCmd": "print(var_dic_list())"
        },
        "r": {
          "delete_cmd_postfix": ") ",
          "delete_cmd_prefix": "rm(",
          "library": "var_list.r",
          "varRefreshCmd": "cat(var_dic_list()) "
        }
      },
      "types_to_exclude": [
        "module",
        "function",
        "builtin_function_or_method",
        "instance",
        "_Feature"
      ],
      "window_display": false
    }
  },
  "nbformat": 4,
  "nbformat_minor": 0
}
